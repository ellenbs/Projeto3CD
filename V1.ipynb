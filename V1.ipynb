{
 "cells": [
  {
   "cell_type": "markdown",
   "metadata": {},
   "source": [
    "# Projeto 3 - Ciência dos dados \n",
    "\n",
    "**Alunos:**\n",
    "Ellen Shen, Enzo Neto, Gabriel Huerta e Giulia Castro"
   ]
  },
  {
   "cell_type": "markdown",
   "metadata": {},
   "source": [
    "### Proposta de problemas:\n",
    "\n",
    "Inicialmente o grupo pensou em duas ideias diferentes de database para a realização do projeto. \n",
    "\n",
    "1) Netflix: \n",
    "Prever através do método de decision tree se o usuário irá gostar ou não de um determinado filme. \n",
    "\n",
    "2) Spotify:\n",
    "Identificar, dentro de uma playlist, as músicas mais parecidas e ir sugerindo as próximas músicas que o usuário deveria escutar."
   ]
  },
  {
   "cell_type": "markdown",
   "metadata": {},
   "source": [
    "### Definição das técnicas\n",
    "\n",
    "- Para as duas técnicas que iremos implementar (clusterização e decision tree), utilizaremos o dataset do Spotify"
   ]
  },
  {
   "cell_type": "code",
   "execution_count": null,
   "metadata": {},
   "outputs": [],
   "source": []
  }
 ],
 "metadata": {
  "kernelspec": {
   "display_name": "Python 3",
   "language": "python",
   "name": "python3"
  },
  "language_info": {
   "codemirror_mode": {
    "name": "ipython",
    "version": 3
   },
   "file_extension": ".py",
   "mimetype": "text/x-python",
   "name": "python",
   "nbconvert_exporter": "python",
   "pygments_lexer": "ipython3",
   "version": "3.7.1"
  }
 },
 "nbformat": 4,
 "nbformat_minor": 2
}
