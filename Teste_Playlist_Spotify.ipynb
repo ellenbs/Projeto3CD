{
 "cells": [
  {
   "cell_type": "code",
   "execution_count": 1,
   "metadata": {
    "scrolled": true
   },
   "outputs": [
    {
     "name": "stdout",
     "output_type": "stream",
     "text": [
      "Requirement already satisfied: spotipy in c:\\users\\gabriel\\anaconda3\\lib\\site-packages (2.4.4)\n",
      "Requirement already satisfied: requests>=1.0 in c:\\users\\gabriel\\anaconda3\\lib\\site-packages (from spotipy) (2.21.0)\n",
      "Requirement already satisfied: certifi>=2017.4.17 in c:\\users\\gabriel\\anaconda3\\lib\\site-packages (from requests>=1.0->spotipy) (2018.11.29)\n",
      "Requirement already satisfied: idna<2.9,>=2.5 in c:\\users\\gabriel\\anaconda3\\lib\\site-packages (from requests>=1.0->spotipy) (2.8)\n",
      "Requirement already satisfied: urllib3<1.25,>=1.21.1 in c:\\users\\gabriel\\anaconda3\\lib\\site-packages (from requests>=1.0->spotipy) (1.24.1)\n",
      "Requirement already satisfied: chardet<3.1.0,>=3.0.2 in c:\\users\\gabriel\\anaconda3\\lib\\site-packages (from requests>=1.0->spotipy) (3.0.4)\n"
     ]
    }
   ],
   "source": [
    "!pip install spotipy"
   ]
  },
  {
   "cell_type": "code",
   "execution_count": 2,
   "metadata": {},
   "outputs": [],
   "source": [
    "import spotipy\n",
    "import spotipy.util as util\n",
    "from spotipy.oauth2 import SpotifyClientCredentials"
   ]
  },
  {
   "cell_type": "code",
   "execution_count": 3,
   "metadata": {},
   "outputs": [],
   "source": [
    "client_id= \"b2e1e35aac3543e2ab2b6725a6199f53\"\n",
    "client_secret= \"3dd14510a87f4a33813336607ea5236c\"\n",
    "redirect_uri='http://google.com'"
   ]
  },
  {
   "cell_type": "code",
   "execution_count": 4,
   "metadata": {},
   "outputs": [],
   "source": [
    "username='Cv0zrIJcTBK0ydDsIDLDHw'\n",
    "playlist = '37i9dQZEVXbMDoHDwVN2tF'\n",
    "client_credentials_manager = SpotifyClientCredentials(client_id=client_id, client_secret=client_secret)\n",
    "scope = 'user-library-read playlist-read-private'\n",
    "try:\n",
    "    token = util.prompt_for_user_token(username, scope,client_id=client_id, client_secret=client_secret, redirect_uri=redirect_uri)\n",
    "    sp=spotipy.Spotify(auth= token)\n",
    "except:\n",
    "    print('Token is not accesible for ' + username)"
   ]
  },
  {
   "cell_type": "code",
   "execution_count": 5,
   "metadata": {},
   "outputs": [],
   "source": [
    "import argparse\n",
    "import pprint\n",
    "import sys\n",
    "import os\n",
    "import subprocess\n",
    "import json\n",
    "import pandas as pd\n",
    "\n",
    "#client_credentials_manager = SpotifyClientCredentials()\n",
    "\n",
    "def get_playlist_content(username, playlist_id, sp):\n",
    "    offset = 0\n",
    "    songs = []\n",
    "    while True:\n",
    "        content = sp.user_playlist_tracks(username, playlist_id, fields=None,\n",
    "                                          limit=100, offset=offset, market=None)\n",
    "        songs += content['items']\n",
    "        if content['next'] is not None:\n",
    "            offset += 100\n",
    "        else:\n",
    "            break\n",
    "\n",
    "    with open('{}-{}'.format(username, playlist_id), 'w') as outfile:\n",
    "        json.dump(songs, outfile)\n",
    "\n",
    "\n",
    "def get_playlist_audio_features(username, playlist_id, sp):\n",
    "    offset = 0\n",
    "    songs = []\n",
    "    items = []\n",
    "    ids = []\n",
    "    while True:\n",
    "        content = sp.user_playlist_tracks(username, playlist_id, fields=None, limit=100, offset=offset, market=None)\n",
    "        songs += content['items']\n",
    "        if content['next'] is not None:\n",
    "            offset += 100\n",
    "        else:\n",
    "            break\n",
    "\n",
    "    for i in songs:\n",
    "        ids.append(i['track']['id'])\n",
    "\n",
    "    index = 0\n",
    "    audio_features = []\n",
    "    while index < len(ids):\n",
    "        audio_features += sp.audio_features(ids[index:index + 50])\n",
    "        index += 50\n",
    "\n",
    "    features_list = []\n",
    "    for features in audio_features:\n",
    "        features_list.append([features['energy'], features['liveness'],\n",
    "                              features['tempo'], features['speechiness'],\n",
    "                              features['acousticness'], features['instrumentalness'],\n",
    "                              features['time_signature'], features['danceability'],\n",
    "                              features['key'], features['duration_ms'],\n",
    "                              features['loudness'], features['valence'],\n",
    "                              features['mode'], features['type'],\n",
    "                              features['uri']])\n",
    "\n",
    "    df = pd.DataFrame(features_list, columns=['energy', 'liveness',\n",
    "                                              'tempo', 'speechiness',\n",
    "                                              'acousticness', 'instrumentalness',\n",
    "                                              'time_signature', 'danceability',\n",
    "                                              'key', 'duration_ms', 'loudness',\n",
    "                                              'valence', 'mode', 'type', 'uri'])\n",
    "    df.to_csv('{}-{}.csv'.format(username, playlist_id), index=False)\n",
    "\n",
    "\n",
    "def get_user_playlist(username, sp):\n",
    "    playlists = sp.user_playlists(username)\n",
    "    for playlist in playlists['items']:\n",
    "        print(\"Name: {}, Number of songs: {}, Playlist ID: {} \".\n",
    "              format(playlist['name'].encode('utf8'),\n",
    "                     playlist['tracks']['total'],\n",
    "                     playlist['id']))\n"
   ]
  },
  {
   "cell_type": "code",
   "execution_count": 7,
   "metadata": {},
   "outputs": [],
   "source": [
    "get_playlist_audio_features(username,'4gNfyP8v62S9T1o1uWDll3',sp)"
   ]
  },
  {
   "cell_type": "code",
   "execution_count": 23,
   "metadata": {},
   "outputs": [],
   "source": [
    "get_playlist_content(username,playlist,sp)"
   ]
  },
  {
   "cell_type": "code",
   "execution_count": 21,
   "metadata": {},
   "outputs": [
    {
     "name": "stdout",
     "output_type": "stream",
     "text": [
      "Name: b'KPOPERA', Number of songs: 34, Playlist ID: 7mgp5snIgJ2W4kvU6YE6EF \n",
      "Name: b'80', Number of songs: 22, Playlist ID: 4gNfyP8v62S9T1o1uWDll3 \n",
      "Name: b'happy days', Number of songs: 48, Playlist ID: 2znMqQDIhpPsWZYbNDmC6q \n",
      "Name: b'Esmola espiritual', Number of songs: 387, Playlist ID: 1kBgCUCgPu9VqWw22hwHX2 \n",
      "Name: b'Tokusatsu & Anime', Number of songs: 50, Playlist ID: 37i9dQZF1DWYYYb1pjoXTj \n",
      "Name: b'T\\xc3\\x98P PLAYLIST', Number of songs: 48, Playlist ID: 1WCRwQ0f4yT8tuIUUxP5m1 \n",
      "Name: b'jeezz', Number of songs: 9, Playlist ID: 0ofPotHryZgU9mriSHkfM5 \n",
      "Name: b'pinta gilipollas', Number of songs: 144, Playlist ID: 2ehO6n3kgsKZHYhzuLwaXs \n",
      "Name: b'aloka acha que entende de indie e rock', Number of songs: 187, Playlist ID: 6Yc4u6j8fc6PRzH6U7liSf \n",
      "Name: b'Bandersnatch Netflix Playlist', Number of songs: 10, Playlist ID: 7uAUInQomxIWcJnuStMp6X \n",
      "Name: b'VIE', Number of songs: 25, Playlist ID: 0uLEkmSRFuWqqB9jQwukvn \n",
      "Name: b'Tastebreakers', Number of songs: 50, Playlist ID: 37i9dQZF1Ej2tLjAREfunu \n",
      "Name: b'Your Top Songs 2018', Number of songs: 100, Playlist ID: 37i9dQZF1EjjrRkj38UgD1 \n",
      "Name: b'Avante', Number of songs: 48, Playlist ID: 6wxeLvJUuxPkjzS6exqTav \n",
      "Name: b'} dr\\xc3\\xa4m\\xc3\\xa3tik\\xc3\\xa5 {', Number of songs: 120, Playlist ID: 2sK3UA05RkYlifAJ7Hl5jN \n",
      "Name: b'Aaa', Number of songs: 19, Playlist ID: 5MVT277lRwWE1hNhbqn1Cy \n",
      "Name: b'Over the Garden Wall OST', Number of songs: 40, Playlist ID: 2L1EnpkTYVaybcizKMyEwr \n",
      "Name: b'Sexplaylist | Jade Baraldo Sex Playlist', Number of songs: 107, Playlist ID: 1LZdoWZ65LR9inEqJW1TEH \n",
      "Name: b'PkMn', Number of songs: 34, Playlist ID: 71QYFjXJJUXNbwOCeUY9rg \n",
      "Name: b'town', Number of songs: 9, Playlist ID: 5eczksyRIoFgVtrWwafrzo \n",
      "Name: b'Your Top Songs 2017', Number of songs: 100, Playlist ID: 37i9dQZF1E9Ex09e3FQpf2 \n",
      "Name: b'bAcKuP', Number of songs: 49, Playlist ID: 5Lk7FHY7lKor3bJpEgIVpY \n",
      "Name: b'Awesome Mix, Vol. 2', Number of songs: 14, Playlist ID: 4EASmRZcF0W5BSnNnj284f \n",
      "Name: b'Pokemon Symphony Orchestra', Number of songs: 90, Playlist ID: 60521BtdSPXdGsdnmp7YFb \n",
      "Name: b'Lofi Hip-Hop', Number of songs: 98, Playlist ID: 37i9dQZF1DX36Xw4IJIVKA \n",
      "Name: b'All You Need Is Love', Number of songs: 50, Playlist ID: 37i9dQZF1DX5k1GSjYBi0z \n",
      "Name: b'B\\xc3\\xa9di', Number of songs: 29, Playlist ID: 0b7SdqxxmAb8ZUFHzOL6yA \n",
      "Name: b'Discover Weekly', Number of songs: 30, Playlist ID: 37i9dQZEVXcNrXhAMakeP8 \n",
      "Name: b'Faixas do Shazam', Number of songs: 35, Playlist ID: 2EJ9y84rknIH6ce5c7ICQ3 \n",
      "Name: b'Curtidas na R\\xc3\\xa1dio', Number of songs: 7, Playlist ID: 5tsnIvgZVZjYAuJZmPBgc7 \n",
      "Name: b'Volar \\xe2\\x80\\x93 No Te Va Gustar', Number of songs: 21, Playlist ID: 7npZ8ICIHCEWrCQADxgm85 \n",
      "Name: b'Find Me \\xe2\\x80\\x93 Kings Of Leon', Number of songs: 85, Playlist ID: 0uN2TzrwhREAX4IJbi2wrD \n",
      "Name: b'Funkao', Number of songs: 171, Playlist ID: 5U3BrgilkevN1nEfwNRMI8 \n",
      "Name: b'Chillhop Radio \\xf0\\x9f\\x90\\xbe jazzy/lofi hip hop beats to study/relax to', Number of songs: 150, Playlist ID: 0CFuMybe6s77w6QQrJjW7d \n",
      "Name: b'This Is The Beatles', Number of songs: 90, Playlist ID: 37i9dQZF1DXdLtD0qszB1w \n",
      "Name: b'Jp', Number of songs: 44, Playlist ID: 3j8XDJ40jhKQhyvy8IBahr \n",
      "Name: b'mistus misturadus', Number of songs: 58, Playlist ID: 2SK4O0cgJ6IMMdHepnTnBj \n",
      "Name: b'rep', Number of songs: 135, Playlist ID: 5BKCn3KmfWxOxhJ9qeHqWY \n",
      "Name: b'By: Volnys', Number of songs: 21, Playlist ID: 70iNxVWCjpsv6EqLdccIFP \n",
      "Name: b'JUST', Number of songs: 141, Playlist ID: 1mTlZVYNNSWv4RX8fvwk2B \n",
      "Name: b'Deepzao', Number of songs: 56, Playlist ID: 1QMk6SNqevKhz2qZ3l0N6D \n",
      "Name: b'\\xe2\\x9c\\x8c', Number of songs: 76, Playlist ID: 3VrvulSTdfx2aQ5y5FCf04 \n",
      "Name: b'Into the Wild Soundtrack', Number of songs: 11, Playlist ID: 3XnzxOLIolTA7Xhhprdcay \n",
      "Name: b'br', Number of songs: 263, Playlist ID: 6EiC89iXsqhPYOIgNAUJSH \n"
     ]
    }
   ],
   "source": [
    "get_user_playlist(username,sp)"
   ]
  },
  {
   "cell_type": "code",
   "execution_count": null,
   "metadata": {},
   "outputs": [],
   "source": []
  }
 ],
 "metadata": {
  "kernelspec": {
   "display_name": "Python 3",
   "language": "python",
   "name": "python3"
  },
  "language_info": {
   "codemirror_mode": {
    "name": "ipython",
    "version": 3
   },
   "file_extension": ".py",
   "mimetype": "text/x-python",
   "name": "python",
   "nbconvert_exporter": "python",
   "pygments_lexer": "ipython3",
   "version": "3.7.1"
  }
 },
 "nbformat": 4,
 "nbformat_minor": 2
}
