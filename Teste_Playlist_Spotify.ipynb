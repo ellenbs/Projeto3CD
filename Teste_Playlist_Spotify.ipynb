{
 "cells": [
  {
   "cell_type": "code",
   "execution_count": 5,
   "metadata": {},
   "outputs": [
    {
     "name": "stdout",
     "output_type": "stream",
     "text": [
      "Collecting spotipy\n",
      "  Downloading https://files.pythonhosted.org/packages/59/46/3c957255c96910a8a0e2d9c25db1de51a8676ebba01d7966bedc6e748822/spotipy-2.4.4.tar.gz\n",
      "Requirement already satisfied: requests>=1.0 in /Users/ellenbeatriz/anaconda3/lib/python3.7/site-packages (from spotipy) (2.21.0)\n",
      "Requirement already satisfied: urllib3<1.25,>=1.21.1 in /Users/ellenbeatriz/anaconda3/lib/python3.7/site-packages (from requests>=1.0->spotipy) (1.24.1)\n",
      "Requirement already satisfied: certifi>=2017.4.17 in /Users/ellenbeatriz/anaconda3/lib/python3.7/site-packages (from requests>=1.0->spotipy) (2018.11.29)\n",
      "Requirement already satisfied: idna<2.9,>=2.5 in /Users/ellenbeatriz/anaconda3/lib/python3.7/site-packages (from requests>=1.0->spotipy) (2.8)\n",
      "Requirement already satisfied: chardet<3.1.0,>=3.0.2 in /Users/ellenbeatriz/anaconda3/lib/python3.7/site-packages (from requests>=1.0->spotipy) (3.0.4)\n",
      "Building wheels for collected packages: spotipy\n",
      "  Running setup.py bdist_wheel for spotipy ... \u001b[?25ldone\n",
      "\u001b[?25h  Stored in directory: /Users/ellenbeatriz/Library/Caches/pip/wheels/76/28/19/a86ca9bb0e32dbd4a4f580870250f5aeef852870578e0427e6\n",
      "Successfully built spotipy\n",
      "Installing collected packages: spotipy\n",
      "Successfully installed spotipy-2.4.4\n"
     ]
    }
   ],
   "source": [
    "!pip install spotipy"
   ]
  },
  {
   "cell_type": "code",
   "execution_count": 6,
   "metadata": {},
   "outputs": [],
   "source": [
    "import spotipy\n",
    "import spotipy.util as util\n",
    "from spotipy.oauth2 import SpotifyClientCredentials"
   ]
  },
  {
   "cell_type": "code",
   "execution_count": 7,
   "metadata": {},
   "outputs": [],
   "source": [
    "client_id= \"86fc0d50ba5045ff93706a89d3ce9d0e\"\n",
    "client_secret= \"68aa316616e04089a3c041aa3c3e1427\""
   ]
  },
  {
   "cell_type": "code",
   "execution_count": 8,
   "metadata": {},
   "outputs": [
    {
     "name": "stdout",
     "output_type": "stream",
     "text": [
      "Token is not accesible for 22soefajlzyzcqveca24ju2dy\n"
     ]
    }
   ],
   "source": [
    "username='22soefajlzyzcqveca24ju2dy'\n",
    "playlist = 'spotify:user:22soefajlzyzcqveca24ju2dy:playlist:7H7MXCj8O5MjK5x65vjYDA'\n",
    "client_credentials_manager = SpotifyClientCredentials(client_id=client_id, client_secret=client_secret)\n",
    "scope = 'user-library-read playlist-read-private'\n",
    "try:\n",
    "    token = util.prompt_for_user_token(username, scope,client_id=client_id, client_secret=client_secret, redirect_uri=redirect_uri)\n",
    "    sp=spotipy.Spotify(auth= token)\n",
    "except:\n",
    "    print('Token is not accesible for ' + username)"
   ]
  },
  {
   "cell_type": "code",
   "execution_count": 10,
   "metadata": {},
   "outputs": [
    {
     "ename": "SpotifyOauthError",
     "evalue": "No client id",
     "output_type": "error",
     "traceback": [
      "\u001b[0;31m---------------------------------------------------------------------------\u001b[0m",
      "\u001b[0;31mSpotifyOauthError\u001b[0m                         Traceback (most recent call last)",
      "\u001b[0;32m<ipython-input-10-08987f69f253>\u001b[0m in \u001b[0;36m<module>\u001b[0;34m\u001b[0m\n\u001b[1;32m      9\u001b[0m \u001b[0;32mimport\u001b[0m \u001b[0mpandas\u001b[0m \u001b[0;32mas\u001b[0m \u001b[0mpd\u001b[0m\u001b[0;34m\u001b[0m\u001b[0;34m\u001b[0m\u001b[0m\n\u001b[1;32m     10\u001b[0m \u001b[0;32mfrom\u001b[0m \u001b[0mspotipy\u001b[0m\u001b[0;34m.\u001b[0m\u001b[0moauth2\u001b[0m \u001b[0;32mimport\u001b[0m \u001b[0mSpotifyClientCredentials\u001b[0m\u001b[0;34m\u001b[0m\u001b[0;34m\u001b[0m\u001b[0m\n\u001b[0;32m---> 11\u001b[0;31m \u001b[0mclient_credentials_manager\u001b[0m \u001b[0;34m=\u001b[0m \u001b[0mSpotifyClientCredentials\u001b[0m\u001b[0;34m(\u001b[0m\u001b[0;34m)\u001b[0m\u001b[0;34m\u001b[0m\u001b[0;34m\u001b[0m\u001b[0m\n\u001b[0m\u001b[1;32m     12\u001b[0m \u001b[0;34m\u001b[0m\u001b[0m\n\u001b[1;32m     13\u001b[0m \u001b[0;32mdef\u001b[0m \u001b[0mget_playlist_content\u001b[0m\u001b[0;34m(\u001b[0m\u001b[0musername\u001b[0m\u001b[0;34m,\u001b[0m \u001b[0mplaylist_id\u001b[0m\u001b[0;34m,\u001b[0m \u001b[0msp\u001b[0m\u001b[0;34m)\u001b[0m\u001b[0;34m:\u001b[0m\u001b[0;34m\u001b[0m\u001b[0;34m\u001b[0m\u001b[0m\n",
      "\u001b[0;32m~/anaconda3/lib/python3.7/site-packages/spotipy/oauth2.py\u001b[0m in \u001b[0;36m__init__\u001b[0;34m(self, client_id, client_secret, proxies)\u001b[0m\n\u001b[1;32m     37\u001b[0m \u001b[0;34m\u001b[0m\u001b[0m\n\u001b[1;32m     38\u001b[0m         \u001b[0;32mif\u001b[0m \u001b[0;32mnot\u001b[0m \u001b[0mclient_id\u001b[0m\u001b[0;34m:\u001b[0m\u001b[0;34m\u001b[0m\u001b[0;34m\u001b[0m\u001b[0m\n\u001b[0;32m---> 39\u001b[0;31m             \u001b[0;32mraise\u001b[0m \u001b[0mSpotifyOauthError\u001b[0m\u001b[0;34m(\u001b[0m\u001b[0;34m'No client id'\u001b[0m\u001b[0;34m)\u001b[0m\u001b[0;34m\u001b[0m\u001b[0;34m\u001b[0m\u001b[0m\n\u001b[0m\u001b[1;32m     40\u001b[0m \u001b[0;34m\u001b[0m\u001b[0m\n\u001b[1;32m     41\u001b[0m         \u001b[0;32mif\u001b[0m \u001b[0;32mnot\u001b[0m \u001b[0mclient_secret\u001b[0m\u001b[0;34m:\u001b[0m\u001b[0;34m\u001b[0m\u001b[0;34m\u001b[0m\u001b[0m\n",
      "\u001b[0;31mSpotifyOauthError\u001b[0m: No client id"
     ]
    }
   ],
   "source": [
    "import argparse\n",
    "import pprint\n",
    "import sys\n",
    "import os\n",
    "import subprocess\n",
    "import json\n",
    "import spotipy\n",
    "import spotipy.util as util\n",
    "import pandas as pd\n",
    "from spotipy.oauth2 import SpotifyClientCredentials\n",
    "client_credentials_manager = SpotifyClientCredentials()\n",
    "\n",
    "def get_playlist_content(username, playlist_id, sp):\n",
    "    offset = 0\n",
    "    songs = []\n",
    "    while True:\n",
    "        content = sp.user_playlist_tracks(username, playlist_id, fields=None,\n",
    "        limit=100, offset=offset, market=None)\n",
    "        songs += content['items']\n",
    "        if content['next'] is not None:\n",
    "            offset += 100\n",
    "        else:\n",
    "            break\n",
    "with open('{}-{}'.format(username, playlist_id), 'w') as outfile:\n",
    "    json.dump(songs, outfile)\n",
    "def get_playlist_audio_features(username, playlist_id, sp):\n",
    "    offset = 0\n",
    "    songs = []\n",
    "    items = []\n",
    "    ids = []\n",
    "    while True:\n",
    "        content = sp.user_playlist_tracks(username, playlist_id, fields=None, limit=100, offset=offset, market=None)\n",
    "        songs += content['items']\n",
    "        if content['next'] is not None:\n",
    "            offset += 100\n",
    "        else:\n",
    "            break\n",
    "    for i in songs:\n",
    "        ids.append(i['track']['id'])\n",
    "        index = 0\n",
    "        audio_features = []\n",
    "    while index < len(ids):\n",
    "        audio_features += sp.audio_features(ids[index:index + 50])\n",
    "        index += 50\n",
    "        features_list = []\n",
    "        for features in audio_features:\n",
    "            features_list.append([features['energy'], features['liveness'],\n",
    "            features['tempo'], features['speechiness'],\n",
    "            features['acousticness'], features['instrumentalness'],\n",
    "            features['time_signature'], features['danceability'],\n",
    "            features['key'], features['duration_ms'],\n",
    "            features['loudness'], features['valence'],\n",
    "            features['mode'], features['type'],\n",
    "            features['uri']])\n",
    "            df = pd.DataFrame(features_list, columns=['energy', 'liveness',\n",
    "                'tempo', 'speechiness',\n",
    "                'acousticness', 'instrumentalness',\n",
    "                'time_signature', 'danceability',\n",
    "                'key', 'duration_ms', 'loudness',\n",
    "                'valence', 'mode', 'type', 'uri'])\n",
    "            df.to_csv('{}-{}.csv'.format(username, playlist_id), index=False)\n",
    "def get_user_playlist(username, sp):\n",
    "    playlists = sp.user_playlists(username)\n",
    "    for playlist in playlists['items']:\n",
    "        print(\"Name: {}, Number of songs: {}, Playlist ID: {} \".\n",
    "        format(playlist['name'].encode('utf8'),\n",
    "        playlist['tracks']['total'],\n",
    "        playlist['id']))"
   ]
  },
  {
   "cell_type": "code",
   "execution_count": null,
   "metadata": {},
   "outputs": [],
   "source": []
  },
  {
   "cell_type": "code",
   "execution_count": null,
   "metadata": {},
   "outputs": [],
   "source": []
  }
 ],
 "metadata": {
  "kernelspec": {
   "display_name": "Python 3",
   "language": "python",
   "name": "python3"
  },
  "language_info": {
   "codemirror_mode": {
    "name": "ipython",
    "version": 3
   },
   "file_extension": ".py",
   "mimetype": "text/x-python",
   "name": "python",
   "nbconvert_exporter": "python",
   "pygments_lexer": "ipython3",
   "version": "3.7.3"
  }
 },
 "nbformat": 4,
 "nbformat_minor": 2
}
