{
 "cells": [
  {
   "cell_type": "code",
   "execution_count": 27,
   "metadata": {},
   "outputs": [],
   "source": [
    "%matplotlib notebook\n",
    "\n",
    "import matplotlib.pyplot as plt\n",
    "\n",
    "import pandas as pd\n",
    "import numpy as np\n",
    "\n",
    "from scipy.stats import norm\n",
    "\n",
    "from sklearn import tree, datasets\n",
    "from sklearn.preprocessing import LabelEncoder\n",
    "from sklearn.model_selection import train_test_split"
   ]
  },
  {
   "cell_type": "code",
   "execution_count": 8,
   "metadata": {},
   "outputs": [],
   "source": [
    "df = pd.read_csv(\"top50.csv\")"
   ]
  },
  {
   "cell_type": "code",
   "execution_count": 9,
   "metadata": {},
   "outputs": [
    {
     "data": {
      "text/html": [
       "<div>\n",
       "<style scoped>\n",
       "    .dataframe tbody tr th:only-of-type {\n",
       "        vertical-align: middle;\n",
       "    }\n",
       "\n",
       "    .dataframe tbody tr th {\n",
       "        vertical-align: top;\n",
       "    }\n",
       "\n",
       "    .dataframe thead th {\n",
       "        text-align: right;\n",
       "    }\n",
       "</style>\n",
       "<table border=\"1\" class=\"dataframe\">\n",
       "  <thead>\n",
       "    <tr style=\"text-align: right;\">\n",
       "      <th></th>\n",
       "      <th>energy</th>\n",
       "      <th>liveness</th>\n",
       "      <th>tempo</th>\n",
       "      <th>speechiness</th>\n",
       "      <th>acousticness</th>\n",
       "      <th>instrumentalness</th>\n",
       "      <th>time_signature</th>\n",
       "      <th>danceability</th>\n",
       "      <th>key</th>\n",
       "      <th>duration_ms</th>\n",
       "      <th>loudness</th>\n",
       "      <th>valence</th>\n",
       "      <th>mode</th>\n",
       "      <th>type</th>\n",
       "      <th>uri</th>\n",
       "      <th>treinamento</th>\n",
       "    </tr>\n",
       "  </thead>\n",
       "  <tbody>\n",
       "    <tr>\n",
       "      <th>0</th>\n",
       "      <td>0.593</td>\n",
       "      <td>0.1700</td>\n",
       "      <td>98.078</td>\n",
       "      <td>0.0988</td>\n",
       "      <td>0.6880</td>\n",
       "      <td>0.000161</td>\n",
       "      <td>4</td>\n",
       "      <td>0.825</td>\n",
       "      <td>6</td>\n",
       "      <td>209755</td>\n",
       "      <td>-6.401</td>\n",
       "      <td>0.5400</td>\n",
       "      <td>0</td>\n",
       "      <td>audio_features</td>\n",
       "      <td>spotify:track:1rgnBhdG2JDFTbYkYRZAku</td>\n",
       "      <td>0</td>\n",
       "    </tr>\n",
       "    <tr>\n",
       "      <th>1</th>\n",
       "      <td>0.320</td>\n",
       "      <td>0.0822</td>\n",
       "      <td>91.019</td>\n",
       "      <td>0.0546</td>\n",
       "      <td>0.8370</td>\n",
       "      <td>0.000000</td>\n",
       "      <td>4</td>\n",
       "      <td>0.764</td>\n",
       "      <td>11</td>\n",
       "      <td>189486</td>\n",
       "      <td>-7.209</td>\n",
       "      <td>0.5750</td>\n",
       "      <td>1</td>\n",
       "      <td>audio_features</td>\n",
       "      <td>spotify:track:2b8fOow8UzyDFAE27YhOZM</td>\n",
       "      <td>0</td>\n",
       "    </tr>\n",
       "    <tr>\n",
       "      <th>2</th>\n",
       "      <td>0.340</td>\n",
       "      <td>0.2100</td>\n",
       "      <td>101.993</td>\n",
       "      <td>0.0438</td>\n",
       "      <td>0.5760</td>\n",
       "      <td>0.000000</td>\n",
       "      <td>4</td>\n",
       "      <td>0.505</td>\n",
       "      <td>4</td>\n",
       "      <td>206459</td>\n",
       "      <td>-9.005</td>\n",
       "      <td>0.0916</td>\n",
       "      <td>1</td>\n",
       "      <td>audio_features</td>\n",
       "      <td>spotify:track:1HfMVBKM75vxSfsQ5VefZ5</td>\n",
       "      <td>1</td>\n",
       "    </tr>\n",
       "    <tr>\n",
       "      <th>3</th>\n",
       "      <td>0.762</td>\n",
       "      <td>0.0863</td>\n",
       "      <td>120.042</td>\n",
       "      <td>0.0395</td>\n",
       "      <td>0.1920</td>\n",
       "      <td>0.002440</td>\n",
       "      <td>4</td>\n",
       "      <td>0.695</td>\n",
       "      <td>0</td>\n",
       "      <td>215280</td>\n",
       "      <td>-3.497</td>\n",
       "      <td>0.5530</td>\n",
       "      <td>1</td>\n",
       "      <td>audio_features</td>\n",
       "      <td>spotify:track:21jGcNKet2qwijlDFuPiPb</td>\n",
       "      <td>0</td>\n",
       "    </tr>\n",
       "    <tr>\n",
       "      <th>4</th>\n",
       "      <td>0.601</td>\n",
       "      <td>0.4600</td>\n",
       "      <td>116.735</td>\n",
       "      <td>0.1480</td>\n",
       "      <td>0.0522</td>\n",
       "      <td>0.000000</td>\n",
       "      <td>5</td>\n",
       "      <td>0.621</td>\n",
       "      <td>6</td>\n",
       "      <td>163636</td>\n",
       "      <td>-5.616</td>\n",
       "      <td>0.4570</td>\n",
       "      <td>0</td>\n",
       "      <td>audio_features</td>\n",
       "      <td>spotify:track:1ZPWWSwCkxKfqdp4H0RFCo</td>\n",
       "      <td>0</td>\n",
       "    </tr>\n",
       "  </tbody>\n",
       "</table>\n",
       "</div>"
      ],
      "text/plain": [
       "   energy  liveness    tempo  speechiness  acousticness  instrumentalness  \\\n",
       "0   0.593    0.1700   98.078       0.0988        0.6880          0.000161   \n",
       "1   0.320    0.0822   91.019       0.0546        0.8370          0.000000   \n",
       "2   0.340    0.2100  101.993       0.0438        0.5760          0.000000   \n",
       "3   0.762    0.0863  120.042       0.0395        0.1920          0.002440   \n",
       "4   0.601    0.4600  116.735       0.1480        0.0522          0.000000   \n",
       "\n",
       "   time_signature  danceability  key  duration_ms  loudness  valence  mode  \\\n",
       "0               4         0.825    6       209755    -6.401   0.5400     0   \n",
       "1               4         0.764   11       189486    -7.209   0.5750     1   \n",
       "2               4         0.505    4       206459    -9.005   0.0916     1   \n",
       "3               4         0.695    0       215280    -3.497   0.5530     1   \n",
       "4               5         0.621    6       163636    -5.616   0.4570     0   \n",
       "\n",
       "             type                                   uri  treinamento  \n",
       "0  audio_features  spotify:track:1rgnBhdG2JDFTbYkYRZAku            0  \n",
       "1  audio_features  spotify:track:2b8fOow8UzyDFAE27YhOZM            0  \n",
       "2  audio_features  spotify:track:1HfMVBKM75vxSfsQ5VefZ5            1  \n",
       "3  audio_features  spotify:track:21jGcNKet2qwijlDFuPiPb            0  \n",
       "4  audio_features  spotify:track:1ZPWWSwCkxKfqdp4H0RFCo            0  "
      ]
     },
     "execution_count": 9,
     "metadata": {},
     "output_type": "execute_result"
    }
   ],
   "source": [
    "df.head()"
   ]
  },
  {
   "cell_type": "code",
   "execution_count": 14,
   "metadata": {},
   "outputs": [],
   "source": [
    "inputs = df.drop('treinamento',axis='columns')\n",
    "target = df['treinamento']"
   ]
  },
  {
   "cell_type": "code",
   "execution_count": 15,
   "metadata": {},
   "outputs": [],
   "source": [
    "input_n = inputs.drop(['time_signature','type','uri'],axis='columns')"
   ]
  },
  {
   "cell_type": "code",
   "execution_count": 18,
   "metadata": {},
   "outputs": [
    {
     "data": {
      "text/html": [
       "<div>\n",
       "<style scoped>\n",
       "    .dataframe tbody tr th:only-of-type {\n",
       "        vertical-align: middle;\n",
       "    }\n",
       "\n",
       "    .dataframe tbody tr th {\n",
       "        vertical-align: top;\n",
       "    }\n",
       "\n",
       "    .dataframe thead th {\n",
       "        text-align: right;\n",
       "    }\n",
       "</style>\n",
       "<table border=\"1\" class=\"dataframe\">\n",
       "  <thead>\n",
       "    <tr style=\"text-align: right;\">\n",
       "      <th></th>\n",
       "      <th>energy</th>\n",
       "      <th>liveness</th>\n",
       "      <th>tempo</th>\n",
       "      <th>speechiness</th>\n",
       "      <th>acousticness</th>\n",
       "      <th>instrumentalness</th>\n",
       "      <th>danceability</th>\n",
       "      <th>key</th>\n",
       "      <th>duration_ms</th>\n",
       "      <th>loudness</th>\n",
       "      <th>valence</th>\n",
       "      <th>mode</th>\n",
       "    </tr>\n",
       "  </thead>\n",
       "  <tbody>\n",
       "    <tr>\n",
       "      <th>0</th>\n",
       "      <td>0.593</td>\n",
       "      <td>0.1700</td>\n",
       "      <td>98.078</td>\n",
       "      <td>0.0988</td>\n",
       "      <td>0.688</td>\n",
       "      <td>0.000161</td>\n",
       "      <td>0.825</td>\n",
       "      <td>6</td>\n",
       "      <td>209755</td>\n",
       "      <td>-6.401</td>\n",
       "      <td>0.540</td>\n",
       "      <td>0</td>\n",
       "    </tr>\n",
       "    <tr>\n",
       "      <th>1</th>\n",
       "      <td>0.320</td>\n",
       "      <td>0.0822</td>\n",
       "      <td>91.019</td>\n",
       "      <td>0.0546</td>\n",
       "      <td>0.837</td>\n",
       "      <td>0.000000</td>\n",
       "      <td>0.764</td>\n",
       "      <td>11</td>\n",
       "      <td>189486</td>\n",
       "      <td>-7.209</td>\n",
       "      <td>0.575</td>\n",
       "      <td>1</td>\n",
       "    </tr>\n",
       "  </tbody>\n",
       "</table>\n",
       "</div>"
      ],
      "text/plain": [
       "   energy  liveness   tempo  speechiness  acousticness  instrumentalness  \\\n",
       "0   0.593    0.1700  98.078       0.0988         0.688          0.000161   \n",
       "1   0.320    0.0822  91.019       0.0546         0.837          0.000000   \n",
       "\n",
       "   danceability  key  duration_ms  loudness  valence  mode  \n",
       "0         0.825    6       209755    -6.401    0.540     0  \n",
       "1         0.764   11       189486    -7.209    0.575     1  "
      ]
     },
     "execution_count": 18,
     "metadata": {},
     "output_type": "execute_result"
    }
   ],
   "source": [
    "input_n.head(2)"
   ]
  },
  {
   "cell_type": "code",
   "execution_count": 20,
   "metadata": {},
   "outputs": [
    {
     "data": {
      "text/plain": [
       "0    0\n",
       "1    0\n",
       "2    1\n",
       "Name: treinamento, dtype: int64"
      ]
     },
     "execution_count": 20,
     "metadata": {},
     "output_type": "execute_result"
    }
   ],
   "source": [
    "target.head(3)"
   ]
  },
  {
   "cell_type": "code",
   "execution_count": 21,
   "metadata": {},
   "outputs": [],
   "source": [
    "model=tree.DecisionTreeClassifier()"
   ]
  },
  {
   "cell_type": "code",
   "execution_count": 23,
   "metadata": {},
   "outputs": [
    {
     "data": {
      "text/plain": [
       "DecisionTreeClassifier(class_weight=None, criterion='gini', max_depth=None,\n",
       "            max_features=None, max_leaf_nodes=None,\n",
       "            min_impurity_decrease=0.0, min_impurity_split=None,\n",
       "            min_samples_leaf=1, min_samples_split=2,\n",
       "            min_weight_fraction_leaf=0.0, presort=False, random_state=None,\n",
       "            splitter='best')"
      ]
     },
     "execution_count": 23,
     "metadata": {},
     "output_type": "execute_result"
    }
   ],
   "source": [
    "model.fit(input_n, target)"
   ]
  },
  {
   "cell_type": "code",
   "execution_count": 25,
   "metadata": {},
   "outputs": [
    {
     "data": {
      "text/plain": [
       "1.0"
      ]
     },
     "execution_count": 25,
     "metadata": {},
     "output_type": "execute_result"
    }
   ],
   "source": [
    "model.score(input_n,target)"
   ]
  },
  {
   "cell_type": "code",
   "execution_count": null,
   "metadata": {},
   "outputs": [],
   "source": []
  }
 ],
 "metadata": {
  "kernelspec": {
   "display_name": "Python 3",
   "language": "python",
   "name": "python3"
  },
  "language_info": {
   "codemirror_mode": {
    "name": "ipython",
    "version": 3
   },
   "file_extension": ".py",
   "mimetype": "text/x-python",
   "name": "python",
   "nbconvert_exporter": "python",
   "pygments_lexer": "ipython3",
   "version": "3.7.1"
  }
 },
 "nbformat": 4,
 "nbformat_minor": 2
}
